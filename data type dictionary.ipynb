{
 "cells": [
  {
   "cell_type": "markdown",
   "id": "e35022ce",
   "metadata": {},
   "source": [
    "### Dictionary"
   ]
  },
  {
   "cell_type": "code",
   "execution_count": 1,
   "id": "6da7da66",
   "metadata": {},
   "outputs": [],
   "source": [
    "#they are mutable\n",
    "#they are unodered but saved in key and value form\n",
    "#key names should not be same\n",
    "#value can be duplicate\n",
    "#enclosed in {}\n",
    "#can save hetergenous data"
   ]
  },
  {
   "cell_type": "code",
   "execution_count": 3,
   "id": "7452379c",
   "metadata": {},
   "outputs": [],
   "source": [
    "a={1:[2,3,4],2:(2,3,4),3:{1,2,3,4,5,6},4:\"ravi\",5:{1:2,2:5}}"
   ]
  },
  {
   "cell_type": "code",
   "execution_count": 4,
   "id": "1a813d1a",
   "metadata": {},
   "outputs": [
    {
     "data": {
      "text/plain": [
       "dict_keys([1, 2, 3, 4, 5])"
      ]
     },
     "execution_count": 4,
     "metadata": {},
     "output_type": "execute_result"
    }
   ],
   "source": [
    "a.keys()#returns keys"
   ]
  },
  {
   "cell_type": "code",
   "execution_count": 6,
   "id": "bb06a756",
   "metadata": {},
   "outputs": [
    {
     "data": {
      "text/plain": [
       "dict_values([[2, 3, 4], (2, 3, 4), {1, 2, 3, 4, 5, 6}, 'ravi', {1: 2, 2: 5}])"
      ]
     },
     "execution_count": 6,
     "metadata": {},
     "output_type": "execute_result"
    }
   ],
   "source": [
    "a.values()#returns values"
   ]
  },
  {
   "cell_type": "code",
   "execution_count": 8,
   "id": "8d2d50f2",
   "metadata": {},
   "outputs": [
    {
     "data": {
      "text/plain": [
       "dict_items([(1, [2, 3, 4]), (2, (2, 3, 4)), (3, {1, 2, 3, 4, 5, 6}), (4, 'ravi'), (5, {1: 2, 2: 5})])"
      ]
     },
     "execution_count": 8,
     "metadata": {},
     "output_type": "execute_result"
    }
   ],
   "source": [
    "a.items()#returns both keys along with values "
   ]
  },
  {
   "cell_type": "code",
   "execution_count": 9,
   "id": "3187ed13",
   "metadata": {},
   "outputs": [],
   "source": [
    "#a.clear is used to clear dict"
   ]
  },
  {
   "cell_type": "code",
   "execution_count": 10,
   "id": "04e06ae0",
   "metadata": {},
   "outputs": [],
   "source": [
    "a1=a.copy()"
   ]
  },
  {
   "cell_type": "code",
   "execution_count": 11,
   "id": "ab0d6d54",
   "metadata": {},
   "outputs": [
    {
     "data": {
      "text/plain": [
       "{1: [2, 3, 4], 2: (2, 3, 4), 3: {1, 2, 3, 4, 5, 6}, 4: 'ravi', 5: {1: 2, 2: 5}}"
      ]
     },
     "execution_count": 11,
     "metadata": {},
     "output_type": "execute_result"
    }
   ],
   "source": [
    "a1"
   ]
  },
  {
   "cell_type": "code",
   "execution_count": 20,
   "id": "b77d00b2",
   "metadata": {},
   "outputs": [
    {
     "data": {
      "text/plain": [
       "2"
      ]
     },
     "execution_count": 20,
     "metadata": {},
     "output_type": "execute_result"
    }
   ],
   "source": [
    "a[5][1]"
   ]
  },
  {
   "cell_type": "code",
   "execution_count": 21,
   "id": "b15b557d",
   "metadata": {},
   "outputs": [],
   "source": [
    "b=dict()#this creates dictionary"
   ]
  },
  {
   "cell_type": "code",
   "execution_count": 22,
   "id": "3fb485ad",
   "metadata": {},
   "outputs": [
    {
     "data": {
      "text/plain": [
       "dict"
      ]
     },
     "execution_count": 22,
     "metadata": {},
     "output_type": "execute_result"
    }
   ],
   "source": [
    "type(b)"
   ]
  },
  {
   "cell_type": "code",
   "execution_count": 38,
   "id": "2cc2ca93",
   "metadata": {},
   "outputs": [
    {
     "name": "stdout",
     "output_type": "stream",
     "text": [
      "<class 'set'>\n",
      "{1: [1, 2, 3, 'string'], 2: [1, 2, 3, 'string'], 3: [1, 2, 3, 'string'], 4: [1, 2, 3, 'string'], 5: [1, 2, 3, 'string']}\n"
     ]
    }
   ],
   "source": [
    "keys={1,2,3,4,5}\n",
    "values=[1,2,3,\"string\"]\n",
    "print(type(keys))\n",
    "b.fromkeys(keys)#this take keys from keys set\n",
    "z=b.fromkeys(keys,values)\n",
    "print(z)"
   ]
  },
  {
   "cell_type": "code",
   "execution_count": 37,
   "id": "de557b39",
   "metadata": {},
   "outputs": [
    {
     "data": {
      "text/plain": [
       "{1: [1, 2, 3, 'string', 222],\n",
       " 2: [1, 2, 3, 'string', 222],\n",
       " 3: [1, 2, 3, 'string', 222],\n",
       " 4: [1, 2, 3, 'string', 222],\n",
       " 5: [1, 2, 3, 'string', 222]}"
      ]
     },
     "execution_count": 37,
     "metadata": {},
     "output_type": "execute_result"
    }
   ],
   "source": [
    "values.append(222)\n",
    "z"
   ]
  },
  {
   "cell_type": "code",
   "execution_count": 39,
   "id": "659073f5",
   "metadata": {},
   "outputs": [
    {
     "data": {
      "text/plain": [
       "{1: [2, 3, 4], 2: (2, 3, 4), 3: {1, 2, 3, 4, 5, 6}, 4: 'ravi', 5: {1: 2, 2: 5}}"
      ]
     },
     "execution_count": 39,
     "metadata": {},
     "output_type": "execute_result"
    }
   ],
   "source": [
    "a"
   ]
  },
  {
   "cell_type": "code",
   "execution_count": 43,
   "id": "737e1743",
   "metadata": {},
   "outputs": [],
   "source": [
    "a[1][0]=5#updating value "
   ]
  },
  {
   "cell_type": "code",
   "execution_count": 41,
   "id": "a89a9062",
   "metadata": {},
   "outputs": [
    {
     "data": {
      "text/plain": [
       "{1: [5, 3, 4], 2: (2, 3, 4), 3: {1, 2, 3, 4, 5, 6}, 4: 'ravi', 5: {1: 2, 2: 5}}"
      ]
     },
     "execution_count": 41,
     "metadata": {},
     "output_type": "execute_result"
    }
   ],
   "source": [
    "a"
   ]
  },
  {
   "cell_type": "code",
   "execution_count": 44,
   "id": "a7b85028",
   "metadata": {},
   "outputs": [
    {
     "name": "stdout",
     "output_type": "stream",
     "text": [
      "true\n"
     ]
    }
   ],
   "source": [
    "if 2 in a:\n",
    "    print(\"true\")\n",
    "else:\n",
    "    print(\"false\")"
   ]
  },
  {
   "cell_type": "code",
   "execution_count": 47,
   "id": "7487e1b2",
   "metadata": {},
   "outputs": [
    {
     "name": "stdout",
     "output_type": "stream",
     "text": [
      "1 : [5, 3, 4]\n",
      "2 : (2, 3, 4)\n",
      "3 : {1, 2, 3, 4, 5, 6}\n",
      "4 : ravi\n",
      "5 : {1: 2, 2: 5}\n"
     ]
    }
   ],
   "source": [
    "#looping in dictionary\n",
    "for i in a:\n",
    "    print(i,\":\",a[i])"
   ]
  },
  {
   "cell_type": "code",
   "execution_count": 55,
   "id": "190ceab0",
   "metadata": {},
   "outputs": [],
   "source": [
    "a[6]={23}#adding to dictionary"
   ]
  },
  {
   "cell_type": "code",
   "execution_count": 56,
   "id": "9a4afb96",
   "metadata": {},
   "outputs": [
    {
     "data": {
      "text/plain": [
       "{1: [5, 3, 4],\n",
       " 2: (2, 3, 4),\n",
       " 3: {1, 2, 3, 4, 5, 6},\n",
       " 4: 'ravi',\n",
       " 5: {1: 2, 2: 5},\n",
       " 6: {23}}"
      ]
     },
     "execution_count": 56,
     "metadata": {},
     "output_type": "execute_result"
    }
   ],
   "source": [
    "a"
   ]
  },
  {
   "cell_type": "code",
   "execution_count": null,
   "id": "b3b5cc18",
   "metadata": {},
   "outputs": [],
   "source": []
  }
 ],
 "metadata": {
  "kernelspec": {
   "display_name": "Python 3 (ipykernel)",
   "language": "python",
   "name": "python3"
  },
  "language_info": {
   "codemirror_mode": {
    "name": "ipython",
    "version": 3
   },
   "file_extension": ".py",
   "mimetype": "text/x-python",
   "name": "python",
   "nbconvert_exporter": "python",
   "pygments_lexer": "ipython3",
   "version": "3.9.7"
  }
 },
 "nbformat": 4,
 "nbformat_minor": 5
}

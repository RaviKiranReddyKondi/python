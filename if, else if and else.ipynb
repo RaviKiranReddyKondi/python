{
 "cells": [
  {
   "cell_type": "markdown",
   "id": "9864cefb",
   "metadata": {},
   "source": [
    "### Decision statements"
   ]
  },
  {
   "cell_type": "code",
   "execution_count": 1,
   "id": "edadd22b",
   "metadata": {},
   "outputs": [],
   "source": [
    "#in this we have if, else if or elif and else statements\n",
    "# if is a boolean statement in which it returns true and run the code \n",
    "# else it is followed by if and returns false if it is not true\n",
    "# else if or elif is followed by if and it runs if the statement is false "
   ]
  },
  {
   "cell_type": "code",
   "execution_count": 2,
   "id": "4bc06221",
   "metadata": {},
   "outputs": [
    {
     "name": "stdout",
     "output_type": "stream",
     "text": [
      "a is equal to b\n"
     ]
    }
   ],
   "source": [
    "a=10\n",
    "b=10\n",
    "if a==b:\n",
    "    print(\"a is equal to b\")"
   ]
  },
  {
   "cell_type": "code",
   "execution_count": 21,
   "id": "4d168eb9",
   "metadata": {},
   "outputs": [
    {
     "name": "stdout",
     "output_type": "stream",
     "text": [
      "enter 1st number:5\n",
      "enter 2nd number:6\n",
      "x is less than y\n"
     ]
    }
   ],
   "source": [
    "# use of if and else if\n",
    "x=int(input(\"enter 1st number:\"))\n",
    "y=int(input(\"enter 2nd number:\"))\n",
    "if x==y:\n",
    "    print(\"X euqal to Y\")\n",
    "elif x>y:\n",
    "    print(\"x is greater than y\")\n",
    "else :\n",
    "    print(\"x is less than y\")"
   ]
  },
  {
   "cell_type": "code",
   "execution_count": 20,
   "id": "0287a78a",
   "metadata": {},
   "outputs": [
    {
     "name": "stdout",
     "output_type": "stream",
     "text": [
      "enter any amount500\n",
      "amount not equals to 1000\n"
     ]
    }
   ],
   "source": [
    "#if and else\n",
    "amount=int(input(\"enter any amount\"))\n",
    "if amount==1000:\n",
    "    print(\"amount equals to 1000\")\n",
    "else :\n",
    "    print(\"amount not equals to 1000\")\n"
   ]
  },
  {
   "cell_type": "code",
   "execution_count": null,
   "id": "3f626a44",
   "metadata": {},
   "outputs": [],
   "source": [
    "## nested if and else\n",
    "num=int(input(\"enter a number:\"))\n",
    "if num%2==0:\n",
    "    if num%5==0:\n",
    "        print(\"divisble by both 2 and 5\")\n",
    "    else:\n",
    "        print(\"divisble by only 2\")\n",
    "else:\n",
    "    if num%5==0:\n",
    "        print(\"divisble by 5\")\n",
    "    else:\n",
    "        print(\"not divisble by 5 and 2\")"
   ]
  },
  {
   "cell_type": "code",
   "execution_count": null,
   "id": "9385481a",
   "metadata": {},
   "outputs": [],
   "source": []
  }
 ],
 "metadata": {
  "kernelspec": {
   "display_name": "Python 3 (ipykernel)",
   "language": "python",
   "name": "python3"
  },
  "language_info": {
   "codemirror_mode": {
    "name": "ipython",
    "version": 3
   },
   "file_extension": ".py",
   "mimetype": "text/x-python",
   "name": "python",
   "nbconvert_exporter": "python",
   "pygments_lexer": "ipython3",
   "version": "3.9.7"
  }
 },
 "nbformat": 4,
 "nbformat_minor": 5
}

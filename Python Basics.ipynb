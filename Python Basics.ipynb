{
 "cells": [
  {
   "cell_type": "markdown",
   "id": "9fc357d0",
   "metadata": {},
   "source": [
    "### keywords"
   ]
  },
  {
   "cell_type": "code",
   "execution_count": null,
   "id": "c624021d",
   "metadata": {},
   "outputs": [],
   "source": [
    "#these are the reserved words, in python and no identifers names should be saved with keywords names"
   ]
  },
  {
   "cell_type": "code",
   "execution_count": 5,
   "id": "feb997a4",
   "metadata": {},
   "outputs": [
    {
     "name": "stdout",
     "output_type": "stream",
     "text": [
      "['False', 'None', 'True', '__peg_parser__', 'and', 'as', 'assert', 'async', 'await', 'break', 'class', 'continue', 'def', 'del', 'elif', 'else', 'except', 'finally', 'for', 'from', 'global', 'if', 'import', 'in', 'is', 'lambda', 'nonlocal', 'not', 'or', 'pass', 'raise', 'return', 'try', 'while', 'with', 'yield']\n"
     ]
    }
   ],
   "source": [
    "import keyword\n",
    "print(keyword.kwlist)"
   ]
  },
  {
   "cell_type": "code",
   "execution_count": 8,
   "id": "64677812",
   "metadata": {},
   "outputs": [
    {
     "name": "stdout",
     "output_type": "stream",
     "text": [
      "36\n"
     ]
    }
   ],
   "source": [
    "print(len(keyword.kwlist))"
   ]
  },
  {
   "cell_type": "markdown",
   "id": "af6b755c",
   "metadata": {},
   "source": [
    "### identifiers"
   ]
  },
  {
   "cell_type": "code",
   "execution_count": 11,
   "id": "9ebc252a",
   "metadata": {},
   "outputs": [],
   "source": [
    "#these are the names given to save a class, variable or functions just like your names to represent your identity\n"
   ]
  },
  {
   "cell_type": "markdown",
   "id": "4c6d0a75",
   "metadata": {},
   "source": [
    "#### rules"
   ]
  },
  {
   "cell_type": "code",
   "execution_count": 12,
   "id": "4f9533e9",
   "metadata": {},
   "outputs": [],
   "source": [
    "#they should not start with numbers or special symbols\n",
    "#They should not have keyword names\n",
    "#always in form of camelcase type"
   ]
  },
  {
   "cell_type": "markdown",
   "id": "f19c5825",
   "metadata": {},
   "source": [
    "### statements"
   ]
  },
  {
   "cell_type": "code",
   "execution_count": 13,
   "id": "d311ecef",
   "metadata": {},
   "outputs": [],
   "source": [
    "#all excutable commands are known as statements\n",
    "#group of statements are known as block\n",
    "#statements may be single line or multi line statements"
   ]
  },
  {
   "cell_type": "markdown",
   "id": "285fe9b6",
   "metadata": {},
   "source": [
    "### comments"
   ]
  },
  {
   "cell_type": "code",
   "execution_count": 16,
   "id": "f376dab2",
   "metadata": {},
   "outputs": [
    {
     "data": {
      "text/plain": [
       "'multi line comments'"
      ]
     },
     "execution_count": 16,
     "metadata": {},
     "output_type": "execute_result"
    }
   ],
   "source": [
    "#they may be single line comments by #\n",
    "'''multi line comments'''\n",
    "\"\"\"multi line comments\"\"\""
   ]
  },
  {
   "cell_type": "markdown",
   "id": "6ff4ab77",
   "metadata": {},
   "source": [
    "### indentation"
   ]
  },
  {
   "cell_type": "code",
   "execution_count": 17,
   "id": "2c58dbb1",
   "metadata": {},
   "outputs": [],
   "source": [
    "#space from the begining of the code. the block of code should have correct indenation"
   ]
  },
  {
   "cell_type": "code",
   "execution_count": 21,
   "id": "66bac9b3",
   "metadata": {},
   "outputs": [
    {
     "name": "stdout",
     "output_type": "stream",
     "text": [
      "it is true\n"
     ]
    }
   ],
   "source": [
    "p=10\n",
    "if p==10:\n",
    "    print(\"it is true\")"
   ]
  },
  {
   "cell_type": "markdown",
   "id": "48ce44c8",
   "metadata": {},
   "source": [
    "### docstrings"
   ]
  },
  {
   "cell_type": "code",
   "execution_count": 22,
   "id": "6bdaef98",
   "metadata": {},
   "outputs": [],
   "source": [
    "#they are useful in functions"
   ]
  },
  {
   "cell_type": "code",
   "execution_count": 36,
   "id": "9de256aa",
   "metadata": {},
   "outputs": [],
   "source": [
    "#function always start with \"def\"\n",
    "def ravi(a):\n",
    "    '''this function gives square of value entered'''\n",
    "    return a**2"
   ]
  },
  {
   "cell_type": "code",
   "execution_count": 37,
   "id": "9a209d24",
   "metadata": {},
   "outputs": [
    {
     "data": {
      "text/plain": [
       "16"
      ]
     },
     "execution_count": 37,
     "metadata": {},
     "output_type": "execute_result"
    }
   ],
   "source": [
    "ravi(4)"
   ]
  },
  {
   "cell_type": "code",
   "execution_count": 39,
   "id": "48043791",
   "metadata": {},
   "outputs": [
    {
     "data": {
      "text/plain": [
       "'this function gives square of value entered'"
      ]
     },
     "execution_count": 39,
     "metadata": {},
     "output_type": "execute_result"
    }
   ],
   "source": [
    "ravi.__doc__"
   ]
  },
  {
   "cell_type": "markdown",
   "id": "2f44adc7",
   "metadata": {},
   "source": [
    "### Variables"
   ]
  },
  {
   "cell_type": "code",
   "execution_count": 41,
   "id": "e39e5079",
   "metadata": {},
   "outputs": [
    {
     "name": "stdout",
     "output_type": "stream",
     "text": [
      "10\n",
      "ravi\n",
      "1.0\n"
     ]
    }
   ],
   "source": [
    "#these are storage containers in which we can store values, characters etc\n",
    "a=10\n",
    "b=\"ravi\"\n",
    "c=1.0\n",
    "print(a)\n",
    "print(b)\n",
    "print(c)"
   ]
  },
  {
   "cell_type": "code",
   "execution_count": 63,
   "id": "83547b44",
   "metadata": {},
   "outputs": [
    {
     "name": "stdout",
     "output_type": "stream",
     "text": [
      "<class 'int'>\n",
      "<class 'str'>\n",
      "<class 'float'>\n"
     ]
    }
   ],
   "source": [
    "a=10\n",
    "b=\"ravi\"\n",
    "c=1.0\n",
    "print(type(a))\n",
    "print(type(b));print(type(c))"
   ]
  },
  {
   "cell_type": "markdown",
   "id": "e31d69d1",
   "metadata": {},
   "source": [
    "### Operators"
   ]
  },
  {
   "cell_type": "markdown",
   "id": "c3ed2061",
   "metadata": {},
   "source": [
    "### aasignment operators"
   ]
  },
  {
   "cell_type": "code",
   "execution_count": 88,
   "id": "77af0690",
   "metadata": {},
   "outputs": [],
   "source": [
    "#assingment operators: \"=\", \"+=\",\"-+\",\"*=\"\n"
   ]
  },
  {
   "cell_type": "code",
   "execution_count": 130,
   "id": "8d4bc7f4",
   "metadata": {},
   "outputs": [
    {
     "name": "stdout",
     "output_type": "stream",
     "text": [
      "30\n",
      "15\n",
      "10\n"
     ]
    }
   ],
   "source": [
    "a=5\n",
    "b=10\n",
    "c=20\n",
    "y=b+c\n",
    "print(y)\n",
    "a+=b\n",
    "print(a)\n",
    "a-=b\n",
    "print(b)"
   ]
  },
  {
   "cell_type": "markdown",
   "id": "49f49582",
   "metadata": {},
   "source": [
    "#### Arthemtic operators"
   ]
  },
  {
   "cell_type": "code",
   "execution_count": 91,
   "id": "baa1d157",
   "metadata": {},
   "outputs": [],
   "source": [
    "# + addition\n",
    "# - sub\n",
    "# * multiplication\n",
    "# / gives float coefficient\n",
    "# % modula gives reminder\n",
    "# ** power\n",
    "# // removes decimal point and gives floor value\n"
   ]
  },
  {
   "cell_type": "markdown",
   "id": "6d126319",
   "metadata": {},
   "source": [
    "### Comparison/relationship operators"
   ]
  },
  {
   "cell_type": "code",
   "execution_count": 92,
   "id": "eafcda32",
   "metadata": {},
   "outputs": [],
   "source": [
    "# > greater than\n",
    "#< less than\n",
    "# >= greater than or equal to\n",
    "# <=less than or equal to\n",
    "# == equal to\n",
    "# != not equal to\n"
   ]
  },
  {
   "cell_type": "markdown",
   "id": "5efb759e",
   "metadata": {},
   "source": [
    "### Bitwise operatrs"
   ]
  },
  {
   "cell_type": "code",
   "execution_count": 93,
   "id": "57913aa3",
   "metadata": {},
   "outputs": [],
   "source": [
    "# and, or, not, xor, >>, << "
   ]
  },
  {
   "cell_type": "markdown",
   "id": "c8aaf6a2",
   "metadata": {},
   "source": [
    "### Logical Operators"
   ]
  },
  {
   "cell_type": "code",
   "execution_count": 111,
   "id": "9b0c6d1b",
   "metadata": {},
   "outputs": [
    {
     "name": "stdout",
     "output_type": "stream",
     "text": [
      "False\n",
      "True\n",
      "False\n",
      "True\n"
     ]
    }
   ],
   "source": [
    "# and both should be true than it is true\n",
    "# or any one true than prints true\n",
    "#not prints true if it is false\n",
    "a=True\n",
    "b=False\n",
    "print(a and b)\n",
    "print(a or b)\n",
    "print( not a)\n",
    "print(not b)"
   ]
  },
  {
   "cell_type": "markdown",
   "id": "6306d6ac",
   "metadata": {},
   "source": [
    "### Membership operators"
   ]
  },
  {
   "cell_type": "code",
   "execution_count": 125,
   "id": "61cf168d",
   "metadata": {},
   "outputs": [
    {
     "data": {
      "text/plain": [
       "(True, True)"
      ]
     },
     "execution_count": 125,
     "metadata": {},
     "output_type": "execute_result"
    }
   ],
   "source": [
    "# in, not in\n",
    "ravi=\"ravi kiran reddy\"\n",
    "\"ravi\" in ravi , \"surya\" not in ravi "
   ]
  },
  {
   "cell_type": "markdown",
   "id": "173f0c8c",
   "metadata": {},
   "source": [
    "### Identity operators"
   ]
  },
  {
   "cell_type": "code",
   "execution_count": 133,
   "id": "67770ee1",
   "metadata": {},
   "outputs": [
    {
     "name": "stdout",
     "output_type": "stream",
     "text": [
      "True\n",
      "False\n",
      "True\n"
     ]
    }
   ],
   "source": [
    "#is if both are same prints true; is not prints true if they are not same\n",
    "a=10\n",
    "b=10\n",
    "c=21\n",
    "print(a is b)\n",
    "print(b is c)\n",
    "print(b is not c)"
   ]
  },
  {
   "cell_type": "code",
   "execution_count": null,
   "id": "98d1931d",
   "metadata": {},
   "outputs": [],
   "source": []
  }
 ],
 "metadata": {
  "kernelspec": {
   "display_name": "Python 3 (ipykernel)",
   "language": "python",
   "name": "python3"
  },
  "language_info": {
   "codemirror_mode": {
    "name": "ipython",
    "version": 3
   },
   "file_extension": ".py",
   "mimetype": "text/x-python",
   "name": "python",
   "nbconvert_exporter": "python",
   "pygments_lexer": "ipython3",
   "version": "3.9.7"
  }
 },
 "nbformat": 4,
 "nbformat_minor": 5
}

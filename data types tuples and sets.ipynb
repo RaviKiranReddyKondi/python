{
 "cells": [
  {
   "cell_type": "markdown",
   "id": "3d404281",
   "metadata": {},
   "source": [
    "### Tuples"
   ]
  },
  {
   "cell_type": "code",
   "execution_count": 1,
   "id": "3d783f74",
   "metadata": {},
   "outputs": [],
   "source": [
    "#they are odered collection\n",
    "#they are immutable\n",
    "#they are enlosed in ()\n",
    "#they allow duplication"
   ]
  },
  {
   "cell_type": "code",
   "execution_count": 3,
   "id": "0a64c234",
   "metadata": {},
   "outputs": [],
   "source": [
    "a=(1,2,3,4,5,[1,2,3,4,5,6], \"ravi\")"
   ]
  },
  {
   "cell_type": "markdown",
   "id": "99641d0c",
   "metadata": {},
   "source": [
    "#### Indexing"
   ]
  },
  {
   "cell_type": "code",
   "execution_count": 4,
   "id": "6ce8d264",
   "metadata": {},
   "outputs": [
    {
     "data": {
      "text/plain": [
       "1"
      ]
     },
     "execution_count": 4,
     "metadata": {},
     "output_type": "execute_result"
    }
   ],
   "source": [
    "#just same like strings and lists\n",
    "a[0]"
   ]
  },
  {
   "cell_type": "code",
   "execution_count": 5,
   "id": "82eff39b",
   "metadata": {},
   "outputs": [
    {
     "data": {
      "text/plain": [
       "2"
      ]
     },
     "execution_count": 5,
     "metadata": {},
     "output_type": "execute_result"
    }
   ],
   "source": [
    "a[5][1]"
   ]
  },
  {
   "cell_type": "code",
   "execution_count": 8,
   "id": "82cda687",
   "metadata": {},
   "outputs": [
    {
     "name": "stdout",
     "output_type": "stream",
     "text": [
      "yes\n"
     ]
    }
   ],
   "source": [
    "if \"ravi\" in a:\n",
    "    print(\"yes\")"
   ]
  },
  {
   "cell_type": "code",
   "execution_count": 13,
   "id": "7324a1ac",
   "metadata": {},
   "outputs": [
    {
     "name": "stdout",
     "output_type": "stream",
     "text": [
      "(0, 1)\n",
      "(1, 2)\n",
      "(2, 3)\n",
      "(3, 4)\n",
      "(4, 5)\n",
      "(5, [1, 2, 3, 4, 5, 6])\n",
      "(6, 'ravi')\n"
     ]
    }
   ],
   "source": [
    "for i in enumerate(a):\n",
    "    print(i)"
   ]
  },
  {
   "cell_type": "code",
   "execution_count": 14,
   "id": "3555cb75",
   "metadata": {},
   "outputs": [
    {
     "data": {
      "text/plain": [
       "'v'"
      ]
     },
     "execution_count": 14,
     "metadata": {},
     "output_type": "execute_result"
    }
   ],
   "source": [
    "a[6][2]"
   ]
  },
  {
   "cell_type": "code",
   "execution_count": 16,
   "id": "6f3f7060",
   "metadata": {},
   "outputs": [
    {
     "data": {
      "text/plain": [
       "1"
      ]
     },
     "execution_count": 16,
     "metadata": {},
     "output_type": "execute_result"
    }
   ],
   "source": [
    "a.count(1)"
   ]
  },
  {
   "cell_type": "code",
   "execution_count": 17,
   "id": "874d0e49",
   "metadata": {},
   "outputs": [
    {
     "data": {
      "text/plain": [
       "1"
      ]
     },
     "execution_count": 17,
     "metadata": {},
     "output_type": "execute_result"
    }
   ],
   "source": [
    "a.count(\"ravi\")"
   ]
  },
  {
   "cell_type": "code",
   "execution_count": 18,
   "id": "79a361a0",
   "metadata": {},
   "outputs": [
    {
     "data": {
      "text/plain": [
       "4"
      ]
     },
     "execution_count": 18,
     "metadata": {},
     "output_type": "execute_result"
    }
   ],
   "source": [
    "a.index(5)"
   ]
  },
  {
   "cell_type": "code",
   "execution_count": 21,
   "id": "6e8d3556",
   "metadata": {},
   "outputs": [
    {
     "data": {
      "text/plain": [
       "6"
      ]
     },
     "execution_count": 21,
     "metadata": {},
     "output_type": "execute_result"
    }
   ],
   "source": [
    "a.index(\"ravi\")#ravi is considered as single index"
   ]
  },
  {
   "cell_type": "code",
   "execution_count": 22,
   "id": "6ff24cd3",
   "metadata": {},
   "outputs": [
    {
     "data": {
      "text/plain": [
       "7"
      ]
     },
     "execution_count": 22,
     "metadata": {},
     "output_type": "execute_result"
    }
   ],
   "source": [
    "len(a)"
   ]
  },
  {
   "cell_type": "markdown",
   "id": "40be1247",
   "metadata": {},
   "source": [
    "### Sets"
   ]
  },
  {
   "cell_type": "markdown",
   "id": "673138f9",
   "metadata": {},
   "source": [
    "##### they are unordered collection\n",
    "#enlosed in {}\n",
    "#they can hold heterogenous data\n",
    "#they wont allow any duplications\n",
    "#mutable"
   ]
  },
  {
   "cell_type": "code",
   "execution_count": 99,
   "id": "3eb4137c",
   "metadata": {},
   "outputs": [],
   "source": [
    "b={1,2,3,4,(1,2,3,4,5),1,2,3,4,\"ravi\",\"ravi\", True}#list cannot be inserted into set\n",
    "c=[{1,2,3,4,5,6},1,2,3,4,5]#list\n",
    "d=([1,2,3,4,5],1,2,3,4,5,{1,2,4},\"ravi\")# in tuples we can store any type of data"
   ]
  },
  {
   "cell_type": "code",
   "execution_count": 100,
   "id": "4061823e",
   "metadata": {},
   "outputs": [
    {
     "data": {
      "text/plain": [
       "{(1, 2, 3, 4, 5), 1, 2, 3, 4, 'ravi'}"
      ]
     },
     "execution_count": 100,
     "metadata": {},
     "output_type": "execute_result"
    }
   ],
   "source": [
    "b#this shows no duplication"
   ]
  },
  {
   "cell_type": "code",
   "execution_count": 36,
   "id": "350562fe",
   "metadata": {},
   "outputs": [
    {
     "data": {
      "text/plain": [
       "6"
      ]
     },
     "execution_count": 36,
     "metadata": {},
     "output_type": "execute_result"
    }
   ],
   "source": [
    "len(b)"
   ]
  },
  {
   "cell_type": "code",
   "execution_count": 40,
   "id": "7cc2ca8a",
   "metadata": {},
   "outputs": [
    {
     "name": "stdout",
     "output_type": "stream",
     "text": [
      "<class 'dict'>\n",
      "<class 'set'>\n"
     ]
    }
   ],
   "source": [
    "e={}\n",
    "print(type(e))\n",
    "f=set()\n",
    "print(type(f))"
   ]
  },
  {
   "cell_type": "code",
   "execution_count": 42,
   "id": "4370ba4d",
   "metadata": {},
   "outputs": [
    {
     "name": "stdout",
     "output_type": "stream",
     "text": [
      "1\n",
      "2\n",
      "3\n",
      "4\n",
      "5\n",
      "[1, 2, 3, 4, 5, 6]\n",
      "ravi\n"
     ]
    }
   ],
   "source": [
    "for i in a:\n",
    "    print(i)"
   ]
  },
  {
   "cell_type": "code",
   "execution_count": 43,
   "id": "e7122bce",
   "metadata": {},
   "outputs": [
    {
     "name": "stdout",
     "output_type": "stream",
     "text": [
      "(0, 1)\n",
      "(1, 2)\n",
      "(2, 3)\n",
      "(3, 4)\n",
      "(4, 5)\n",
      "(5, [1, 2, 3, 4, 5, 6])\n",
      "(6, 'ravi')\n"
     ]
    }
   ],
   "source": [
    "for i in enumerate(a):\n",
    "    print(i)"
   ]
  },
  {
   "cell_type": "code",
   "execution_count": 44,
   "id": "4f195cb3",
   "metadata": {},
   "outputs": [
    {
     "data": {
      "text/plain": [
       "True"
      ]
     },
     "execution_count": 44,
     "metadata": {},
     "output_type": "execute_result"
    }
   ],
   "source": [
    "#we can use memebership operators\n",
    "1 in a"
   ]
  },
  {
   "cell_type": "code",
   "execution_count": 51,
   "id": "3682d791",
   "metadata": {},
   "outputs": [
    {
     "data": {
      "text/plain": [
       "{(1, 2, 3, 4, 5), 1, 2, 3, 4, 'ravi'}"
      ]
     },
     "execution_count": 51,
     "metadata": {},
     "output_type": "execute_result"
    }
   ],
   "source": [
    "#add() and remove() \n",
    "b.add(\"pravansh\")\n",
    "b\n",
    "b.remove(\"pravansh\")\n",
    "b"
   ]
  },
  {
   "cell_type": "code",
   "execution_count": 59,
   "id": "ef6c24f9",
   "metadata": {},
   "outputs": [
    {
     "data": {
      "text/plain": [
       "{(1, 2, 3, 4, 5), 1, 2, 3, 4, '4', '8', 9, 'ravi'}"
      ]
     },
     "execution_count": 59,
     "metadata": {},
     "output_type": "execute_result"
    }
   ],
   "source": [
    "b.update(\"4\")#we can update only strings in set\n",
    "b\n",
    "b.add(9)#by add function we can any data type except list\n",
    "b"
   ]
  },
  {
   "cell_type": "code",
   "execution_count": 60,
   "id": "39f1c649",
   "metadata": {},
   "outputs": [
    {
     "ename": "KeyError",
     "evalue": "19",
     "output_type": "error",
     "traceback": [
      "\u001b[1;31m---------------------------------------------------------------------------\u001b[0m",
      "\u001b[1;31mKeyError\u001b[0m                                  Traceback (most recent call last)",
      "\u001b[1;32m~\\AppData\\Local\\Temp/ipykernel_13848/2160769874.py\u001b[0m in \u001b[0;36m<module>\u001b[1;34m\u001b[0m\n\u001b[0;32m      1\u001b[0m \u001b[1;31m#remove and dicard\u001b[0m\u001b[1;33m\u001b[0m\u001b[1;33m\u001b[0m\u001b[0m\n\u001b[1;32m----> 2\u001b[1;33m \u001b[0mb\u001b[0m\u001b[1;33m.\u001b[0m\u001b[0mremove\u001b[0m\u001b[1;33m(\u001b[0m\u001b[1;36m19\u001b[0m\u001b[1;33m)\u001b[0m\u001b[1;33m\u001b[0m\u001b[1;33m\u001b[0m\u001b[0m\n\u001b[0m",
      "\u001b[1;31mKeyError\u001b[0m: 19"
     ]
    }
   ],
   "source": [
    "#remove and dicard\n",
    "b.remove(19)# this gives key error"
   ]
  },
  {
   "cell_type": "code",
   "execution_count": 62,
   "id": "2086740a",
   "metadata": {},
   "outputs": [
    {
     "data": {
      "text/plain": [
       "{(1, 2, 3, 4, 5), 1, 2, 3, 4, '4', '8', 9, 'ravi'}"
      ]
     },
     "execution_count": 62,
     "metadata": {},
     "output_type": "execute_result"
    }
   ],
   "source": [
    "b.discard(19)#this wont give any error\n",
    "b"
   ]
  },
  {
   "cell_type": "code",
   "execution_count": 63,
   "id": "94d1e97e",
   "metadata": {},
   "outputs": [],
   "source": [
    "#del function delete whole set"
   ]
  },
  {
   "cell_type": "code",
   "execution_count": 65,
   "id": "cb6caa34",
   "metadata": {},
   "outputs": [
    {
     "name": "stdout",
     "output_type": "stream",
     "text": [
      "2877627893504 2877627893504\n"
     ]
    }
   ],
   "source": [
    "#copy() for coping set\n",
    "a1=a\n",
    "print(id(a),id(a1))"
   ]
  },
  {
   "cell_type": "code",
   "execution_count": 69,
   "id": "9aa1c8a9",
   "metadata": {},
   "outputs": [
    {
     "name": "stdout",
     "output_type": "stream",
     "text": [
      "2875520421440\n",
      "2875520419648\n"
     ]
    }
   ],
   "source": [
    "#but when you copy the same set into other variable it accquires different id\n",
    "b1=b.copy()\n",
    "print(id(b1))\n",
    "print(id(b))"
   ]
  },
  {
   "cell_type": "code",
   "execution_count": 70,
   "id": "62d3e3a3",
   "metadata": {},
   "outputs": [
    {
     "name": "stdout",
     "output_type": "stream",
     "text": [
      "{1, 2, 3, 4}\n",
      "set()\n"
     ]
    }
   ],
   "source": [
    "#clear\n",
    "g={1,2,3,4}\n",
    "print(g)\n",
    "g.clear()\n",
    "print(g)"
   ]
  },
  {
   "cell_type": "markdown",
   "id": "e5198d27",
   "metadata": {},
   "source": [
    "### set operations"
   ]
  },
  {
   "cell_type": "code",
   "execution_count": 71,
   "id": "96554538",
   "metadata": {},
   "outputs": [
    {
     "name": "stdout",
     "output_type": "stream",
     "text": [
      "{1, 2, 3, 4, 'ravi', 9, '8', '4', (1, 2, 3, 4, 5)}\n",
      "set()\n",
      "{4, 5, 6, 7}\n",
      "{1, 2, 3, 4, 'ravi', 9, '8', '4', (1, 2, 3, 4, 5)}\n",
      "{1, 2, 3, 4, 'ravi', 9, '8', '4', (1, 2, 3, 4, 5)}\n",
      "{1, 2, 3, 4, 5, 6, 7, 'ravi', 9, '8', '4', (1, 2, 3, 4, 5)}\n"
     ]
    }
   ],
   "source": [
    "#union\n",
    "print(b)\n",
    "print(g)\n",
    "h={4,5,6,7}\n",
    "print(h)\n",
    "print(b|g)#union with pipe operator\n",
    "print(b.union(g))#union with function\n",
    "print(b.union(g,h))#union of more than two sets"
   ]
  },
  {
   "cell_type": "code",
   "execution_count": 73,
   "id": "d64977cc",
   "metadata": {},
   "outputs": [
    {
     "name": "stdout",
     "output_type": "stream",
     "text": [
      "set()\n",
      "set()\n",
      "{4}\n"
     ]
    }
   ],
   "source": [
    "#intersection\n",
    "print(b&g)\n",
    "print(b.intersection(g))\n",
    "print(b&h)"
   ]
  },
  {
   "cell_type": "code",
   "execution_count": 75,
   "id": "bbcfb26b",
   "metadata": {},
   "outputs": [
    {
     "data": {
      "text/plain": [
       "{3, 4, 5}"
      ]
     },
     "execution_count": 75,
     "metadata": {},
     "output_type": "execute_result"
    }
   ],
   "source": [
    "#b.intersection_update sees the coomon in both sets and update the set with intersected values\n",
    "x={1,2,3,4,5}\n",
    "y={6,7,8,4,5,3}\n",
    "x.intersection_update(y)\n",
    "x"
   ]
  },
  {
   "cell_type": "code",
   "execution_count": 82,
   "id": "3dd29288",
   "metadata": {},
   "outputs": [
    {
     "name": "stdout",
     "output_type": "stream",
     "text": [
      "{3, 4, 5}\n",
      "{3, 4, 5, 6, 7, 8}\n",
      "set()\n",
      "{8, 6, 7}\n",
      "{8, 6, 7}\n"
     ]
    }
   ],
   "source": [
    "#difference\n",
    "print(x)\n",
    "print(y)\n",
    "print(x-y)# this returns only items present x in which are not in y\n",
    "print((y-x))\n",
    "print(y.difference(x))\n",
    "#differenece_update same like intersection_update"
   ]
  },
  {
   "cell_type": "code",
   "execution_count": 88,
   "id": "427d812e",
   "metadata": {},
   "outputs": [
    {
     "data": {
      "text/plain": [
       "{1, 2, 4, 5}"
      ]
     },
     "execution_count": 88,
     "metadata": {},
     "output_type": "execute_result"
    }
   ],
   "source": [
    "z={1,2,3}\n",
    "x.union(z)\n",
    "#symmetric difference\n",
    "x^z# return the value which are not common in both\n",
    "x.symmetric_difference(z)#same ouypuy like above"
   ]
  },
  {
   "cell_type": "code",
   "execution_count": 96,
   "id": "7a31263c",
   "metadata": {},
   "outputs": [
    {
     "name": "stdout",
     "output_type": "stream",
     "text": [
      "True\n",
      "False\n",
      "True\n",
      "False\n"
     ]
    }
   ],
   "source": [
    "#subset, superset and disjoint\n",
    "x\n",
    "y\n",
    "print(x.issubset(y))#subset x is the subset of y\n",
    "print(x.issuperset(y))\n",
    "print(x.issuperset(x))#gives true when all elements are present in both\n",
    "print(x.isdisjoint(y))#gives true when no elements are same "
   ]
  },
  {
   "cell_type": "code",
   "execution_count": 98,
   "id": "e698fc5a",
   "metadata": {},
   "outputs": [
    {
     "data": {
      "text/plain": [
       "[3, 4, 5, 6, 7, 8]"
      ]
     },
     "execution_count": 98,
     "metadata": {},
     "output_type": "execute_result"
    }
   ],
   "source": [
    "sorted(y)#sorts y #this only works when only int or str present. but butnot both as mixture "
   ]
  },
  {
   "cell_type": "code",
   "execution_count": 101,
   "id": "ba3e650d",
   "metadata": {},
   "outputs": [
    {
     "data": {
      "text/plain": [
       "{(1, 2, 3, 4, 5), 1, 2, 3, 4, 'ravi'}"
      ]
     },
     "execution_count": 101,
     "metadata": {},
     "output_type": "execute_result"
    }
   ],
   "source": [
    "b"
   ]
  },
  {
   "cell_type": "code",
   "execution_count": 103,
   "id": "60bfd2d9",
   "metadata": {},
   "outputs": [],
   "source": [
    "g={\"ravi\",\"kiran\",\"reddy\"}"
   ]
  },
  {
   "cell_type": "code",
   "execution_count": 104,
   "id": "3578a651",
   "metadata": {},
   "outputs": [
    {
     "data": {
      "text/plain": [
       "['kiran', 'ravi', 'reddy']"
      ]
     },
     "execution_count": 104,
     "metadata": {},
     "output_type": "execute_result"
    }
   ],
   "source": [
    "sorted(g)"
   ]
  },
  {
   "cell_type": "code",
   "execution_count": null,
   "id": "e573c21c",
   "metadata": {},
   "outputs": [],
   "source": []
  }
 ],
 "metadata": {
  "kernelspec": {
   "display_name": "Python 3 (ipykernel)",
   "language": "python",
   "name": "python3"
  },
  "language_info": {
   "codemirror_mode": {
    "name": "ipython",
    "version": 3
   },
   "file_extension": ".py",
   "mimetype": "text/x-python",
   "name": "python",
   "nbconvert_exporter": "python",
   "pygments_lexer": "ipython3",
   "version": "3.9.7"
  }
 },
 "nbformat": 4,
 "nbformat_minor": 5
}

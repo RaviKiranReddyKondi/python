{
 "cells": [
  {
   "cell_type": "markdown",
   "id": "02c4e9b3",
   "metadata": {},
   "source": [
    "### Lists"
   ]
  },
  {
   "cell_type": "code",
   "execution_count": 55,
   "id": "2812d8b7",
   "metadata": {},
   "outputs": [],
   "source": [
    "#it holds heterogenous data\n",
    "#most common and mutable\n",
    "#lists always indicated by []\n",
    "#allows duplicate elements"
   ]
  },
  {
   "cell_type": "code",
   "execution_count": 10,
   "id": "da5fb693",
   "metadata": {},
   "outputs": [],
   "source": [
    "ravi=['chintu',23,4,5,6,7,\"kiran\",[1,2,3,4,5]]"
   ]
  },
  {
   "cell_type": "markdown",
   "id": "feba6d17",
   "metadata": {},
   "source": [
    "#### Acessing the value in lists"
   ]
  },
  {
   "cell_type": "code",
   "execution_count": 3,
   "id": "2ba28108",
   "metadata": {},
   "outputs": [
    {
     "name": "stdout",
     "output_type": "stream",
     "text": [
      "chintu\n",
      "h\n"
     ]
    }
   ],
   "source": [
    "#it is same like string indexing\n",
    "#to accesss chintu, it is in zero index\n",
    "print(ravi[0])\n",
    "print(ravi[0][1])"
   ]
  },
  {
   "cell_type": "code",
   "execution_count": 58,
   "id": "2909ff64",
   "metadata": {},
   "outputs": [
    {
     "data": {
      "text/plain": [
       "'cvintu'"
      ]
     },
     "execution_count": 58,
     "metadata": {},
     "output_type": "execute_result"
    }
   ],
   "source": [
    "#replacing in string\n",
    "ravi[0].replace(\"h\",\"v\")"
   ]
  },
  {
   "cell_type": "code",
   "execution_count": 59,
   "id": "97c495a1",
   "metadata": {},
   "outputs": [
    {
     "ename": "NameError",
     "evalue": "name 'a' is not defined",
     "output_type": "error",
     "traceback": [
      "\u001b[1;31m---------------------------------------------------------------------------\u001b[0m",
      "\u001b[1;31mNameError\u001b[0m                                 Traceback (most recent call last)",
      "\u001b[1;32m~\\AppData\\Local\\Temp/ipykernel_17232/2747292094.py\u001b[0m in \u001b[0;36m<module>\u001b[1;34m\u001b[0m\n\u001b[0;32m      2\u001b[0m \u001b[0ma\u001b[0m\u001b[1;33m=\u001b[0m\u001b[1;33m[\u001b[0m\u001b[1;36m1\u001b[0m\u001b[1;33m,\u001b[0m\u001b[1;36m2\u001b[0m\u001b[1;33m,\u001b[0m\u001b[1;36m3\u001b[0m\u001b[1;33m,\u001b[0m\u001b[1;36m4\u001b[0m\u001b[1;33m,\u001b[0m\u001b[1;34m'ravi'\u001b[0m\u001b[1;33m]\u001b[0m\u001b[1;33m\u001b[0m\u001b[1;33m\u001b[0m\u001b[0m\n\u001b[0;32m      3\u001b[0m \u001b[1;32mdel\u001b[0m\u001b[1;33m(\u001b[0m\u001b[0ma\u001b[0m\u001b[1;33m)\u001b[0m\u001b[1;33m\u001b[0m\u001b[1;33m\u001b[0m\u001b[0m\n\u001b[1;32m----> 4\u001b[1;33m \u001b[0mprint\u001b[0m\u001b[1;33m(\u001b[0m\u001b[0ma\u001b[0m\u001b[1;33m)\u001b[0m\u001b[1;33m\u001b[0m\u001b[1;33m\u001b[0m\u001b[0m\n\u001b[0m\u001b[0;32m      5\u001b[0m \u001b[1;31m#after this a variable is deleted\u001b[0m\u001b[1;33m\u001b[0m\u001b[1;33m\u001b[0m\u001b[0m\n",
      "\u001b[1;31mNameError\u001b[0m: name 'a' is not defined"
     ]
    }
   ],
   "source": [
    "#del is used to delete the list\n",
    "a=[1,2,3,4,'ravi']\n",
    "del(a)\n",
    "print(a)\n",
    "#after this a variable is deleted"
   ]
  },
  {
   "cell_type": "code",
   "execution_count": 60,
   "id": "ba9f28e9",
   "metadata": {},
   "outputs": [
    {
     "name": "stdout",
     "output_type": "stream",
     "text": [
      "8\n",
      "it is not present in in ravi\n",
      "['chintu', 23, 4, 5, 6, 7, 'kiran', [1, 2, 3, 4, 5]]\n",
      "['chintu', 23, 4, 5, 6, 7, 'kiran', [1, 2, 3, 4, 5]]\n",
      "['chintu', 23, 4, 5, 6, 7, 'kiran', [1, 2, 3, 4, 5]]\n",
      "['chintu', 23, 4, 5, 6, 7, 'kiran', [1, 2, 3, 4, 5]]\n",
      "['chintu', 23, 4, 5, 6, 7, 'kiran', [1, 2, 3, 4, 5]]\n",
      "['chintu', 23, 4, 5, 6, 7, 'kiran', [1, 2, 3, 4, 5]]\n",
      "['chintu', 23, 4, 5, 6, 7, 'kiran', [1, 2, 3, 4, 5]]\n",
      "['chintu', 23, 4, 5, 6, 7, 'kiran', [1, 2, 3, 4, 5]]\n"
     ]
    }
   ],
   "source": [
    "print(len(ravi))#length function\n",
    "#max(ravi)#gives max value if list is having only integers\n",
    "#min() same like max() function but returns min value in list\n",
    "\n",
    "#some mathemtical operators like + is used to concatenation; *repeating; in membership operator; for loop\n",
    "if \"i\" in ravi:\n",
    "    print(\"i is present in ravi list\")\n",
    "else:\n",
    "    print(\"it is not present in in ravi\")\n",
    "# for loop\n",
    "for i in ravi:\n",
    "    print(ravi)"
   ]
  },
  {
   "cell_type": "markdown",
   "id": "0d6092e1",
   "metadata": {},
   "source": [
    "#### Functions"
   ]
  },
  {
   "cell_type": "code",
   "execution_count": 61,
   "id": "893cad3d",
   "metadata": {},
   "outputs": [
    {
     "name": "stdout",
     "output_type": "stream",
     "text": [
      "['chintu', 23, 4, 5, 6, 7, 'kiran', [1, 2, 3, 4, 5], 'pravansh']\n"
     ]
    }
   ],
   "source": [
    "#list.append() is used for adding only one value or string at the last of list\n",
    "ravi.append(\"pravansh\")\n",
    "print(ravi)\n"
   ]
  },
  {
   "cell_type": "code",
   "execution_count": 62,
   "id": "e267ef99",
   "metadata": {},
   "outputs": [
    {
     "name": "stdout",
     "output_type": "stream",
     "text": [
      "0\n",
      "1\n",
      "1\n"
     ]
    }
   ],
   "source": [
    "#list.count() counts the character you given in list same like string\n",
    "print(ravi.count('i'))\n",
    "print(ravi.count(5))\n",
    "print(ravi.count(\"pravansh\"))"
   ]
  },
  {
   "cell_type": "code",
   "execution_count": 63,
   "id": "63d39081",
   "metadata": {},
   "outputs": [
    {
     "name": "stdout",
     "output_type": "stream",
     "text": [
      "['chintu', 23, 4, 5, 6, 7, 'kiran', [1, 2, 3, 4, 5], 'pravansh', 'pravansh', 'padma', 'bhargavi']\n"
     ]
    }
   ],
   "source": [
    "#list.extend is used to add other list to exsiting list\n",
    "ravi\n",
    "uday=[\"pravansh\",\"padma\",\"bhargavi\"]\n",
    "ravi.extend(uday)\n",
    "print(ravi)"
   ]
  },
  {
   "cell_type": "code",
   "execution_count": 64,
   "id": "136a3629",
   "metadata": {},
   "outputs": [
    {
     "name": "stdout",
     "output_type": "stream",
     "text": [
      "['chintu', 'bhavish', 23, 4, 5, 6, 7, 'kiran', [1, 2, 3, 4, 5], 'pravansh', 'pravansh', 'padma', 'bhargavi']\n"
     ]
    }
   ],
   "source": [
    "#list.insert is used to insert any value at ur desired location\n",
    "ravi.insert(1,\"bhavish\")# this insert bhavish at 1 index in list\n",
    "print(ravi)"
   ]
  },
  {
   "cell_type": "code",
   "execution_count": 65,
   "id": "5afad59b",
   "metadata": {},
   "outputs": [
    {
     "name": "stdout",
     "output_type": "stream",
     "text": [
      "bhavish\n"
     ]
    }
   ],
   "source": [
    "#list.pop is used to remove\n",
    "#list.remove works same as pop\n",
    "ravi.pop()\n",
    "print(ravi.pop(1))# this pops out the index 1"
   ]
  },
  {
   "cell_type": "code",
   "execution_count": 66,
   "id": "e6d636c7",
   "metadata": {},
   "outputs": [
    {
     "name": "stdout",
     "output_type": "stream",
     "text": [
      "[]\n"
     ]
    }
   ],
   "source": [
    "#list.clear()to clear the list\n",
    "x=[1,2,3,4,5]\n",
    "x.clear()\n",
    "print(x)"
   ]
  },
  {
   "cell_type": "code",
   "execution_count": 17,
   "id": "94e5b1eb",
   "metadata": {},
   "outputs": [
    {
     "name": "stdout",
     "output_type": "stream",
     "text": [
      "[5, 4, 3, 2, 1]\n",
      "[1, 2, 3, 4, 5]\n"
     ]
    }
   ],
   "source": [
    "#list.reverse() reverse the list indexing\n",
    "r=[1,2,3,4,5]\n",
    "r.reverse()\n",
    "print(r)\n",
    "print(r[::-1])\n"
   ]
  },
  {
   "cell_type": "code",
   "execution_count": 99,
   "id": "cb6b8383",
   "metadata": {},
   "outputs": [
    {
     "name": "stdout",
     "output_type": "stream",
     "text": [
      "[1, 2, 3, 4, 5]\n"
     ]
    }
   ],
   "source": [
    "#list.sort() sorts the list\n",
    "r.sort()\n",
    "print(r)"
   ]
  },
  {
   "cell_type": "code",
   "execution_count": 100,
   "id": "2a50eec0",
   "metadata": {},
   "outputs": [
    {
     "data": {
      "text/plain": [
       "1"
      ]
     },
     "execution_count": 100,
     "metadata": {},
     "output_type": "execute_result"
    }
   ],
   "source": [
    "#list.index\n",
    "r.index(2)"
   ]
  },
  {
   "cell_type": "code",
   "execution_count": 7,
   "id": "df5a12cd",
   "metadata": {},
   "outputs": [
    {
     "data": {
      "text/plain": [
       "(2465772610112, 2465772610112)"
      ]
     },
     "execution_count": 7,
     "metadata": {},
     "output_type": "execute_result"
    }
   ],
   "source": [
    "#copying a list\n",
    "ravi\n",
    "rav=ravi\n",
    "id(rav),id(ravi)"
   ]
  },
  {
   "cell_type": "code",
   "execution_count": 8,
   "id": "937b704e",
   "metadata": {},
   "outputs": [
    {
     "name": "stdout",
     "output_type": "stream",
     "text": [
      "2465772626048 2465772610112\n"
     ]
    }
   ],
   "source": [
    "ra=ravi.copy()\n",
    "print(id(ra),id(ravi))# the copied new list is having new id"
   ]
  },
  {
   "cell_type": "code",
   "execution_count": 13,
   "id": "ef7be6e5",
   "metadata": {},
   "outputs": [
    {
     "name": "stdout",
     "output_type": "stream",
     "text": [
      "True\n"
     ]
    }
   ],
   "source": [
    "# list membership\n",
    "if \"chintu\" in ravi:\n",
    "    print(\"True\")\n",
    "else:\n",
    "    print(\"false\")"
   ]
  },
  {
   "cell_type": "code",
   "execution_count": 18,
   "id": "c46ab015",
   "metadata": {},
   "outputs": [
    {
     "data": {
      "text/plain": [
       "True"
      ]
     },
     "execution_count": 18,
     "metadata": {},
     "output_type": "execute_result"
    }
   ],
   "source": [
    "all(ravi)"
   ]
  },
  {
   "cell_type": "code",
   "execution_count": 19,
   "id": "88ec7970",
   "metadata": {},
   "outputs": [
    {
     "data": {
      "text/plain": [
       "True"
      ]
     },
     "execution_count": 19,
     "metadata": {},
     "output_type": "execute_result"
    }
   ],
   "source": [
    "any(ravi)"
   ]
  },
  {
   "cell_type": "code",
   "execution_count": 20,
   "id": "4fddc830",
   "metadata": {},
   "outputs": [
    {
     "data": {
      "text/plain": [
       "False"
      ]
     },
     "execution_count": 20,
     "metadata": {},
     "output_type": "execute_result"
    }
   ],
   "source": [
    "z=[0,1,2]\n",
    "all(z) #return false if list has 0"
   ]
  },
  {
   "cell_type": "code",
   "execution_count": 22,
   "id": "52955ad4",
   "metadata": {},
   "outputs": [
    {
     "name": "stdout",
     "output_type": "stream",
     "text": [
      "(0, 'chintu')\n",
      "(1, 23)\n",
      "(2, 4)\n",
      "(3, 5)\n",
      "(4, 6)\n",
      "(5, 7)\n",
      "(6, 'kiran')\n",
      "(7, [1, 2, 3, 4, 5])\n",
      "8\n"
     ]
    }
   ],
   "source": [
    "for i in enumerate(ravi):\n",
    "    print(i)\n",
    "print(len(ravi))"
   ]
  },
  {
   "cell_type": "code",
   "execution_count": null,
   "id": "282c12fa",
   "metadata": {},
   "outputs": [],
   "source": []
  }
 ],
 "metadata": {
  "kernelspec": {
   "display_name": "Python 3 (ipykernel)",
   "language": "python",
   "name": "python3"
  },
  "language_info": {
   "codemirror_mode": {
    "name": "ipython",
    "version": 3
   },
   "file_extension": ".py",
   "mimetype": "text/x-python",
   "name": "python",
   "nbconvert_exporter": "python",
   "pygments_lexer": "ipython3",
   "version": "3.9.7"
  }
 },
 "nbformat": 4,
 "nbformat_minor": 5
}

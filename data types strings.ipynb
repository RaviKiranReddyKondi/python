{
 "cells": [
  {
   "cell_type": "markdown",
   "id": "609374b0",
   "metadata": {},
   "source": [
    "### Strings"
   ]
  },
  {
   "cell_type": "code",
   "execution_count": 1,
   "id": "2c629ebf",
   "metadata": {},
   "outputs": [
    {
     "name": "stdout",
     "output_type": "stream",
     "text": [
      "<class 'str'>\n"
     ]
    }
   ],
   "source": [
    "##these are the most common in python which are enclosed in \"\" or ''\n",
    "ravi=\"ravi kiran reddy\"\n",
    "print(type(ravi))"
   ]
  },
  {
   "cell_type": "code",
   "execution_count": 11,
   "id": "68d737c3",
   "metadata": {},
   "outputs": [
    {
     "data": {
      "text/plain": [
       "'ydder narik ivar'"
      ]
     },
     "execution_count": 11,
     "metadata": {},
     "output_type": "execute_result"
    }
   ],
   "source": [
    "##indexing\n",
    "ravi[5]\n",
    "##indexing works on [first starting:ending:jump size]\n",
    "ravi[2:7:1]#this means it will start at 2 index and ends at 7 means 6th index and jump size is 1\n",
    "###revesre \n",
    "ravi[-1]#it shows in reverse oder index and always starts with-1 and forward indexing starts with 0 always\n",
    "ravi[-1::-1]#reverse indexing starts from reverse and step size is -1\n"
   ]
  },
  {
   "cell_type": "code",
   "execution_count": 104,
   "id": "319a3e54",
   "metadata": {},
   "outputs": [
    {
     "name": "stdout",
     "output_type": "stream",
     "text": [
      "Ravi kiran reddy\n",
      "Ravi Kiran Reddy\n",
      "pravansh\n",
      "PRAVANSH\n",
      "pRAVANSH\n",
      "-----------------ravi kiran reddy-----------------\n",
      "2\n",
      "True\n",
      "ravi kiran\n",
      "8\n",
      "0\n",
      "0\n",
      "True\n",
      "False\n",
      "False\n",
      "False\n",
      "False\n",
      "True\n",
      "True\n",
      "False\n",
      "2ravi kiran reddy0ravi kiran reddy2ravi kiran reddy6ravi kiran reddyrravi kiran reddyaravi kiran reddyvravi kiran reddyi\n",
      "16\n",
      "ravi kiran reddy@@@@@@@@@\n",
      "@@@@@@@@@ravi kiran reddy\n",
      "ravi kiran reddy\n",
      "ravi kiran reddy\n",
      "ravi kiran reddy\n",
      "r1v3 k3r1n r2ddy\n",
      "y\n",
      "0\n",
      "rbvi kirbn reddy\n",
      "['rav', ' k', 'ran reddy']\n"
     ]
    }
   ],
   "source": [
    "print(ravi.capitalize())#capitalize(): capitalises the first letter in the string\n",
    "print(ravi.title())# same out as capitalize\n",
    "p=\"Pravansh\"\n",
    "print(p.lower())# makes all alphabets in lowercase\n",
    "print(p.upper())#makes all in capital\n",
    "print(p.swapcase())#swaspes or reverses small to capital\n",
    "print(ravi.center(50,\"-\"))#this adds the string in centre. its format is ----.centre(width, \"fill character\")\n",
    "print(ravi.count(\"a\",0,10)) #this count is used to count the repeated letters.\n",
    "##its format is ----.count(\"letter u want to count\", starting=index, ending=index)\n",
    "\n"
   ]
  },
  {
   "cell_type": "code",
   "execution_count": 110,
   "id": "724188b1",
   "metadata": {},
   "outputs": [
    {
     "name": "stdout",
     "output_type": "stream",
     "text": [
      "True\n",
      "ravi kiran\n",
      "8\n",
      "0\n",
      "0\n"
     ]
    }
   ],
   "source": [
    "##encode() and decode()\n",
    "print(ravi.endswith(\"y\"))## format ....endswith(suffix=\" ending letter\"[, start index[,end]])\n",
    "rav=\"ravi\\tkiran\"\n",
    "print(rav.expandtabs(tabsize=5))#this expands the size of gap if the string have \"\\t\"\n",
    "print(ravi.find(\"a\",4,10))#finds the character in string and format is ...find(\"to be find\", start=index, end=index)\n",
    "##ravi.index(), ravi.rindex(), ravi.rfind is also same as find but it operates between the strings\n",
    "x=\"ravi\"\n",
    "print(ravi.index(x,0,10))\n",
    "print(ravi.rfind(x,0,))\n"
   ]
  },
  {
   "cell_type": "code",
   "execution_count": 109,
   "id": "089764c4",
   "metadata": {},
   "outputs": [
    {
     "name": "stdout",
     "output_type": "stream",
     "text": [
      "True\n",
      "False\n",
      "False\n",
      "False\n",
      "False\n",
      "True\n",
      "True\n",
      "True\n",
      "False\n",
      "2ravi kiran reddy0ravi kiran reddy2ravi kiran reddy6ravi kiran reddyrravi kiran reddyaravi kiran reddyvravi kiran reddyi\n",
      "16\n"
     ]
    }
   ],
   "source": [
    "ra=\"2026ravi\"\n",
    "print(ra.isalnum())# prints true because string as numbers in it\n",
    "print(ravi.isalnum())# tells about the numbers in string\n",
    "#same like isalnum() isalpha() tells about alphabates\n",
    "print(ra.isalpha())\n",
    "print(ravi.isalpha()) #to work this function there should be no spaces between the characetrs in string\n",
    "#same like isalnum(), isdigit() and isnumeric() gives true for string which as only digits\n",
    "print(ra.isdigit())\n",
    "r=\"2026\"\n",
    "print(r.isdigit())\n",
    "print(r.isnumeric())\n",
    "print(r.isdecimal())\n",
    "print(ravi.isspace()) ## tells about whitespace  like this:\"           \"\n",
    "print(ravi.join(ra)) #joins the strings in between each letter of other string\n",
    "print(len(ravi))## gives the length of string\n"
   ]
  },
  {
   "cell_type": "code",
   "execution_count": 107,
   "id": "65c41953",
   "metadata": {},
   "outputs": [
    {
     "name": "stdout",
     "output_type": "stream",
     "text": [
      "ravi kiran reddy@@@@@@@@@\n",
      "@@@@@@@@@ravi kiran reddy\n",
      "ravi kiran reddy\n",
      "ravi kiran reddy\n",
      "ravi kiran reddy\n",
      "r1v3 k3r1n r2ddy\n",
      "y\n",
      "0\n",
      "rbvi kirbn reddy\n",
      "['rav', ' k', 'ran reddy']\n",
      "000000000000000000000000000000000000000000000000000000000000000000000000000000000000000000000000000000000000000000000000000000000000000000000000000000000000000000000000000000000000000000000000000000000000000000000000000000000000000000000000000000000000000000000000000000000000000000000000000000000000000000000000000000000000000000000000000000000000000000000000000000000000000000000000000000000000000000000000000000000000000000000000000000000000000000000000000000000000000000000000000000000000000000000000000000000000000000000000000000000000000000000000000000000000000000000000000000000000000000000000000000000000000000000000000000000000000000000000000000000000000000000000000000000000000000000000000000000000000000000000000000000000000000000000000000000000000000000000000000000000000000000000000000000000000000000000000000000000000000000000000000000000000000000000000000000000000000000000000000000000000000000000000000000000000000000000000000000000000000000000000000000000000000000000ravi kiran reddy\n"
     ]
    }
   ],
   "source": [
    "######\n",
    "print(ravi.ljust(25,\"@\")) ##this add fillchar. ...ljust(width,\"fillchar\")\n",
    "print(ravi.rjust(25,\"@\"))\n",
    "##\n",
    "print(ravi.strip(\"i\"))\n",
    "print(ravi.lstrip())# removes the characters mentioned from left\n",
    "print(ravi.rstrip())#removes characters from right\n",
    "## maketrans()\n",
    "a=\"aeious\"\n",
    "b=\"123456\"\n",
    "trans=ravi.maketrans(a,b)\n",
    "print(ravi.translate(trans))\n",
    "print(max(ravi))#prints max value\n",
    "print(min(r))#prints min value \n",
    "##replace()\n",
    "print(ravi.replace(\"a\", \"b\", 3))##format ...replace(\"old\", \"new\", how many times to replaced)\n",
    "###split()\n",
    "print(ravi.split('i',2))\n",
    "print(ravi.zfill(1000))"
   ]
  },
  {
   "cell_type": "code",
   "execution_count": null,
   "id": "12970ab4",
   "metadata": {},
   "outputs": [],
   "source": []
  }
 ],
 "metadata": {
  "kernelspec": {
   "display_name": "Python 3 (ipykernel)",
   "language": "python",
   "name": "python3"
  },
  "language_info": {
   "codemirror_mode": {
    "name": "ipython",
    "version": 3
   },
   "file_extension": ".py",
   "mimetype": "text/x-python",
   "name": "python",
   "nbconvert_exporter": "python",
   "pygments_lexer": "ipython3",
   "version": "3.9.7"
  }
 },
 "nbformat": 4,
 "nbformat_minor": 5
}
